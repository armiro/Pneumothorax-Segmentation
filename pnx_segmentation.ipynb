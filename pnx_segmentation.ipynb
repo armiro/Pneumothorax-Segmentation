{
  "nbformat": 4,
  "nbformat_minor": 0,
  "metadata": {
    "colab": {
      "name": "pnx_segmentation.ipynb",
      "provenance": [],
      "mount_file_id": "1Wyk5wH0NME7DOqDcUk9kfsF6cvinK-Ve",
      "authorship_tag": "ABX9TyOVCM/3UaMG9Un3T24jKpJK",
      "include_colab_link": true
    },
    "kernelspec": {
      "name": "python3",
      "display_name": "Python 3"
    },
    "accelerator": "GPU"
  },
  "cells": [
    {
      "cell_type": "markdown",
      "metadata": {
        "id": "view-in-github",
        "colab_type": "text"
      },
      "source": [
        "<a href=\"https://colab.research.google.com/github/armiro/Pneumothorax-Segmentation/blob/master/pnx_segmentation.ipynb\" target=\"_parent\"><img src=\"https://colab.research.google.com/assets/colab-badge.svg\" alt=\"Open In Colab\"/></a>"
      ]
    },
    {
      "cell_type": "code",
      "metadata": {
        "id": "tJscGpINx2zR"
      },
      "source": [
        "import numpy as np\n",
        "import matplotlib.pyplot as plt\n",
        "import tensorflow as tf\n",
        "import pandas as pd\n",
        "import glob, cv2, gzip, gc\n",
        "\n",
        "from sklearn.model_selection import train_test_split\n",
        "from tensorflow.keras.layers import Conv2D, Conv2DTranspose, Dense, Input, Flatten, Dropout\n",
        "from tensorflow.keras.layers import BatchNormalization, MaxPooling2D, concatenate\n",
        "from tensorflow.keras import Model, backend as K"
      ],
      "execution_count": 1,
      "outputs": []
    },
    {
      "cell_type": "code",
      "metadata": {
        "colab": {
          "base_uri": "https://localhost:8080/"
        },
        "id": "br_mHbntybgn",
        "outputId": "830ccb85-8463-44a1-960d-c29ae04c730f"
      },
      "source": [
        "# load the dataset\n",
        "path = '/content/drive/MyDrive/Datasets/siim_acr_pneumothorax_seg/'\n",
        "img_file = gzip.GzipFile(filename=path+'training_images.npy.gz', mode='r')\n",
        "%time images = np.load(file=img_file)\n",
        "msk_file = gzip.GzipFile(filename=path+'training_masks_resized.npy.gz', mode='r')\n",
        "%time masks = np.load(file=msk_file)\n",
        "\n",
        "print('shape of the dataset:', images.shape)\n",
        "print('shape of the masks:', masks.shape)"
      ],
      "execution_count": 2,
      "outputs": [
        {
          "output_type": "stream",
          "text": [
            "CPU times: user 27.2 s, sys: 1.56 s, total: 28.8 s\n",
            "Wall time: 44.9 s\n",
            "CPU times: user 8.27 s, sys: 1.55 s, total: 9.82 s\n",
            "Wall time: 9.85 s\n",
            "shape of the dataset: (12047, 512, 512)\n",
            "shape of the masks: (12047, 512, 512)\n"
          ],
          "name": "stdout"
        }
      ]
    },
    {
      "cell_type": "code",
      "metadata": {
        "colab": {
          "base_uri": "https://localhost:8080/"
        },
        "id": "CzefeyAj0QY-",
        "outputId": "de7956d8-7471-4a76-b515-1d606e62bca8"
      },
      "source": [
        "metadata = pd.read_csv(filepath_or_buffer=path+'converted-train-rle.csv', index_col=None)\n",
        "print('metadata columns:', metadata.columns)\n",
        "age = metadata.loc[:, 'PatientAge']\n",
        "sex = metadata.loc[:, 'PatientSex']\n",
        "view = metadata.loc[:, 'ImageView']"
      ],
      "execution_count": 3,
      "outputs": [
        {
          "output_type": "stream",
          "text": [
            "metadata columns: Index(['ImageId', 'PatientId', 'PatientAge', 'PatientSex', 'ImageView'], dtype='object')\n"
          ],
          "name": "stdout"
        }
      ]
    },
    {
      "cell_type": "code",
      "metadata": {
        "id": "2SE__QCMUNo0"
      },
      "source": [
        "# preprocessing: for agile development, just load a small chunk of the dataset\n",
        "chunk_size = 1000\n",
        "images = np.expand_dims(images[:chunk_size], axis=-1)\n",
        "images = images / 255.0\n",
        "masks = np.expand_dims(masks[:chunk_size], axis=-1)\n",
        "# no need to downscale, but masks are uint8 which must be casted to float64 for manual computations\n",
        "# masks = masks / 255.0\n",
        "\n",
        "X_train, X_val, y_train, y_val = train_test_split(images, masks, test_size=0.2, random_state=18)\n",
        "\n",
        "del images, masks\n",
        "gc.collect()"
      ],
      "execution_count": null,
      "outputs": []
    },
    {
      "cell_type": "code",
      "metadata": {
        "id": "hQ4dw-lK2f8P"
      },
      "source": [
        "# define metrics: dice coefficient (DICE/F1-score) and intersection over union (IoU/Jaccard)\n",
        "def dice_coef(y_true, y_pred, smooth=1):\n",
        "    overlap = K.sum(K.abs(y_true * y_pred), axis=[1, 2, 3])\n",
        "    total_area = K.sum(y_true, axis=[1, 2, 3]) + K.sum(y_pred, axis=[1, 2, 3])\n",
        "    dsc = K.mean((2.0 * overlap + smooth) / (total_area + smooth), axis=0)\n",
        "    return dsc\n",
        "\n",
        "\n",
        "def iou_coef(y_true, y_pred, smooth=1):\n",
        "    intersection = K.sum(K.abs(y_true * y_pred), axis=[1, 2, 3])\n",
        "    union = K.sum(y_true, axis=[1, 2, 3]) + K.sum(y_pred, axis=[1, 2, 3]) - intersection\n",
        "    iou = K.mean((intersection + smooth) / (union + smooth), axis=0)\n",
        "    return iou"
      ],
      "execution_count": 5,
      "outputs": []
    },
    {
      "cell_type": "code",
      "metadata": {
        "colab": {
          "base_uri": "https://localhost:8080/",
          "height": 239
        },
        "id": "cPEpYSb_uz0z",
        "outputId": "62d8ad4d-4c63-48ab-cc07-a4d9a48a356f"
      },
      "source": [
        "# test masks to see if both DSC ans IoU metrics are working correctly\n",
        "im1 = np.expand_dims(y_train[2], axis=0).astype('float64')\n",
        "im2 = np.expand_dims(y_train[3], axis=0).astype('float64')\n",
        "\n",
        "plt.subplot(1, 2, 1)\n",
        "plt.imshow(X=np.squeeze(im1, axis=(0, -1)), cmap='gray')\n",
        "plt.subplot(1, 2, 2)\n",
        "plt.imshow(X=np.squeeze(im2, axis=(0, -1)), cmap='gray')\n",
        "plt.show()\n",
        "\n",
        "print('inter-dice is:', dice_coef(im1, im2), 'and inter-jaccard is:', iou_coef(im1, im2))\n",
        "print('self-dice is:', dice_coef(im1, im1), 'and self-jaccard is:', iou_coef(im1, im1))"
      ],
      "execution_count": 16,
      "outputs": [
        {
          "output_type": "display_data",
          "data": {
            "image/png": "[encoded data removed]",
            "text/plain": [
              "<Figure size 432x288 with 2 Axes>"
            ]
          },
          "metadata": {
            "tags": [],
            "needs_background": "light"
          }
        },
        {
          "output_type": "stream",
          "text": [
            "inter-dice is: tf.Tensor(0.0, shape=(), dtype=float64) and inter-jaccard is: tf.Tensor(0.0, shape=(), dtype=float64)\n",
            "self-dice is: tf.Tensor(1.0, shape=(), dtype=float64) and self-jaccard is: tf.Tensor(1.0, shape=(), dtype=float64)\n"
          ],
          "name": "stdout"
        }
      ]
    },
    {
      "cell_type": "code",
      "metadata": {
        "id": "-TV4kG59yLi6"
      },
      "source": [
        "# model architecture: vanilla unet\n",
        "def vanilla_unet(input_size=(512,512,1)):\n",
        "    inputs = Input(input_size)\n",
        "    \n",
        "    conv1 = Conv2D(32, (3, 3), activation='relu', padding='same')(inputs)\n",
        "    conv1 = Conv2D(32, (3, 3), activation='relu', padding='same')(conv1)\n",
        "    pool1 = MaxPooling2D(pool_size=(2, 2))(conv1)\n",
        "\n",
        "    conv2 = Conv2D(32, (3, 3), activation='relu', padding='same')(pool1)\n",
        "    conv2 = Conv2D(32, (3, 3), activation='relu', padding='same')(conv2)\n",
        "    pool2 = MaxPooling2D(pool_size=(2, 2))(conv2)\n",
        "\n",
        "    conv3 = Conv2D(64, (3, 3), activation='relu', padding='same')(pool2)\n",
        "    conv3 = Conv2D(64, (3, 3), activation='relu', padding='same')(conv3)\n",
        "    pool3 = MaxPooling2D(pool_size=(2, 2))(conv3)\n",
        "\n",
        "    conv4 = Conv2D(64, (3, 3), activation='relu', padding='same')(pool3)\n",
        "    conv4 = Conv2D(64, (3, 3), activation='relu', padding='same')(conv4)\n",
        "    pool4 = MaxPooling2D(pool_size=(2, 2))(conv4)\n",
        "\n",
        "    conv5 = Conv2D(128, (3, 3), activation='relu', padding='same')(pool4)\n",
        "    conv5 = Conv2D(128, (3, 3), activation='relu', padding='same')(conv5)\n",
        "\n",
        "    up6 = concatenate([Conv2DTranspose(64, (2, 2), strides=(2, 2), padding='same')(conv5), conv4], axis=3)\n",
        "    conv6 = Conv2D(64, (3, 3), activation='relu', padding='same')(up6)\n",
        "    conv6 = Conv2D(64, (3, 3), activation='relu', padding='same')(conv6)\n",
        "\n",
        "    up7 = concatenate([Conv2DTranspose(128, (2, 2), strides=(2, 2), padding='same')(conv6), conv3], axis=3)\n",
        "    conv7 = Conv2D(64, (3, 3), activation='relu', padding='same')(up7)\n",
        "    conv7 = Conv2D(64, (3, 3), activation='relu', padding='same')(conv7)\n",
        "\n",
        "    up8 = concatenate([Conv2DTranspose(64, (2, 2), strides=(2, 2), padding='same')(conv7), conv2], axis=3)\n",
        "    conv8 = Conv2D(32, (3, 3), activation='relu', padding='same')(up8)\n",
        "    conv8 = Conv2D(32, (3, 3), activation='relu', padding='same')(conv8)\n",
        "\n",
        "    up9 = concatenate([Conv2DTranspose(32, (2, 2), strides=(2, 2), padding='same')(conv8), conv1], axis=3)\n",
        "    conv9 = Conv2D(32, (3, 3), activation='relu', padding='same')(up9)\n",
        "    conv9 = Conv2D(32, (3, 3), activation='relu', padding='same')(conv9)\n",
        "\n",
        "    conv10 = Conv2D(1, (1, 1), activation='sigmoid')(conv9)\n",
        "\n",
        "    return Model(inputs=[inputs], outputs=[conv10])\n",
        "\n",
        "\n",
        "model = vanilla_unet(input_size=(512, 512, 1))\n",
        "model.compile(optimizer='adam', loss='binary_crossentropy', metrics=[dice_coef, iou_coef])\n",
        "model.summary()\n",
        "# tf.keras.utils.plot_model(model, show_shapes=True)"
      ],
      "execution_count": null,
      "outputs": []
    },
    {
      "cell_type": "code",
      "metadata": {
        "id": "pYdImdn1wygW"
      },
      "source": [
        "training = model.fit(x=X_train, y=y_train, batch_size=32, epochs=100, verbose=1,\n",
        "                     steps_per_epoch=len(X_train)//32.0)"
      ],
      "execution_count": null,
      "outputs": []
    },
    {
      "cell_type": "code",
      "metadata": {
        "id": "pacpViTZMeZZ"
      },
      "source": [
        "idx = 17\n",
        "\n",
        "plt.imshow(X=X_train[idx].squeeze(), cmap='bone')\n",
        "plt.show()\n",
        "plt.imshow(X=y_train[idx].squeeze(), cmap='gray')\n",
        "plt.show()\n",
        "pred = model.predict(np.expand_dims(X_train[idx], axis=0))\n",
        "plt.imshow(X=np.squeeze(pred, axis=(0, -1)), cmap='gray')\n",
        "plt.show()"
      ],
      "execution_count": null,
      "outputs": []
    }
  ]
}