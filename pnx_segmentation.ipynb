{
  "nbformat": 4,
  "nbformat_minor": 0,
  "metadata": {
    "colab": {
      "name": "pnx_segmentation.ipynb",
      "provenance": [],
      "mount_file_id": "1Wyk5wH0NME7DOqDcUk9kfsF6cvinK-Ve",
      "authorship_tag": "ABX9TyMo3gFweaBR3hbeGoi7iFZV",
      "include_colab_link": true
    },
    "kernelspec": {
      "name": "python3",
      "display_name": "Python 3"
    },
    "accelerator": "GPU"
  },
  "cells": [
    {
      "cell_type": "markdown",
      "metadata": {
        "id": "view-in-github",
        "colab_type": "text"
      },
      "source": [
        "<a href=\"https://colab.research.google.com/github/armiro/Pneumothorax-Segmentation/blob/master/pnx_segmentation.ipynb\" target=\"_parent\"><img src=\"https://colab.research.google.com/assets/colab-badge.svg\" alt=\"Open In Colab\"/></a>"
      ]
    },
    {
      "cell_type": "code",
      "metadata": {
        "id": "tJscGpINx2zR"
      },
      "source": [
        "import numpy as np\n",
        "import matplotlib.pyplot as plt\n",
        "import tensorflow as tf\n",
        "import glob, cv2, gzip, csv"
      ],
      "execution_count": 4,
      "outputs": []
    },
    {
      "cell_type": "code",
      "metadata": {
        "colab": {
          "base_uri": "https://localhost:8080/"
        },
        "id": "br_mHbntybgn",
        "outputId": "4dde8b6b-d189-484a-8695-12f80ff81075"
      },
      "source": [
        "# load the dataset\n",
        "path = '/content/drive/MyDrive/Datasets/siim_acr_pneumothorax_seg/'\n",
        "img_file = gzip.GzipFile(filename=path+'training_images.npy.gz', mode='r')\n",
        "%time images = np.load(file=img_file)\n",
        "msk_file = gzip.GzipFile(filename=path+'training_masks_resized.npy.gz', mode='r')\n",
        "%time masks = np.load(file=msk_file)\n",
        "\n",
        "print('shape of the dataset:', images.shape)\n",
        "print('shape of the masks:', masks.shape)"
      ],
      "execution_count": 2,
      "outputs": [
        {
          "output_type": "stream",
          "text": [
            "CPU times: user 31.5 s, sys: 2.76 s, total: 34.3 s\n",
            "Wall time: 4min 13s\n",
            "CPU times: user 10.2 s, sys: 1.67 s, total: 11.8 s\n",
            "Wall time: 50.2 s\n",
            "shape of the dataset: (12047, 512, 512)\n",
            "shape of the masks: (12047, 512, 512)\n"
          ],
          "name": "stdout"
        }
      ]
    },
    {
      "cell_type": "code",
      "metadata": {
        "colab": {
          "base_uri": "https://localhost:8080/"
        },
        "id": "CzefeyAj0QY-",
        "outputId": "4208a9df-a704-4162-f9b2-d7e7c1b3b0d5"
      },
      "source": [
        "metadata = open(file=path+'converted-train-rle.csv', mode='r')\n",
        "print('dataset columns are:', metadata.readline())\n",
        "records = csv.reader(metadata, delimiter=',')\n",
        "print(records)"
      ],
      "execution_count": 9,
      "outputs": [
        {
          "output_type": "stream",
          "text": [
            "dataset columns are: ImageId,PatientId,PatientAge,PatientSex,ImageView\n",
            "\n",
            "0\n"
          ],
          "name": "stdout"
        }
      ]
    }
  ]
}