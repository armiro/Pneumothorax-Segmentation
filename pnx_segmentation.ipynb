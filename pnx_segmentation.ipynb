{
  "nbformat": 4,
  "nbformat_minor": 0,
  "metadata": {
    "colab": {
      "name": "pnx_segmentation.ipynb",
      "provenance": [],
      "mount_file_id": "1Wyk5wH0NME7DOqDcUk9kfsF6cvinK-Ve",
      "authorship_tag": "ABX9TyPAId9hZITefUbUjjHFz03n",
      "include_colab_link": true
    },
    "kernelspec": {
      "name": "python3",
      "display_name": "Python 3"
    },
    "accelerator": "GPU"
  },
  "cells": [
    {
      "cell_type": "markdown",
      "metadata": {
        "id": "view-in-github",
        "colab_type": "text"
      },
      "source": [
        "<a href=\"https://colab.research.google.com/github/armiro/Pneumothorax-Segmentation/blob/master/pnx_segmentation.ipynb\" target=\"_parent\"><img src=\"https://colab.research.google.com/assets/colab-badge.svg\" alt=\"Open In Colab\"/></a>"
      ]
    },
    {
      "cell_type": "code",
      "metadata": {
        "id": "tJscGpINx2zR"
      },
      "source": [
        "import numpy as np\n",
        "import matplotlib.pyplot as plt\n",
        "import tensorflow as tf\n",
        "import pandas as pd\n",
        "import glob, cv2, gzip, gc\n",
        "\n",
        "from sklearn.model_selection import train_test_split\n",
        "from tensorflow.keras.layers import Conv2D, Conv2DTranspose, Dense, Input, Flatten, Dropout\n",
        "from tensorflow.keras.layers import BatchNormalization, MaxPooling2D, concatenate, Lambda\n",
        "from tensorflow.keras import Model, backend as K, callbacks as cb"
      ],
      "execution_count": 1,
      "outputs": []
    },
    {
      "cell_type": "code",
      "metadata": {
        "colab": {
          "base_uri": "https://localhost:8080/"
        },
        "id": "br_mHbntybgn",
        "outputId": "de4864dd-247a-4873-ed91-b9579c171601"
      },
      "source": [
        "# load the dataset\n",
        "path = '/content/drive/MyDrive/Datasets/siim_acr_pneumothorax_seg/'\n",
        "img_file = gzip.GzipFile(filename=path+'training_images.npy.gz', mode='r')\n",
        "%time images = np.load(file=img_file)\n",
        "msk_file = gzip.GzipFile(filename=path+'training_masks_resized.npy.gz', mode='r')\n",
        "%time masks = np.load(file=msk_file)\n",
        "metadata = pd.read_csv(filepath_or_buffer=path+'converted-train-rle.csv', index_col=None)\n",
        "age = metadata.loc[:, 'PatientAge']\n",
        "sex = metadata.loc[:, 'PatientSex']\n",
        "view = metadata.loc[:, 'ImageView']\n",
        "\n",
        "print('metadata columns:', metadata.columns)\n",
        "print('shape of the dataset:', images.shape)\n",
        "print('shape of the masks:', masks.shape)"
      ],
      "execution_count": 2,
      "outputs": [
        {
          "output_type": "stream",
          "text": [
            "CPU times: user 27.2 s, sys: 1.38 s, total: 28.6 s\n",
            "Wall time: 54.9 s\n",
            "CPU times: user 8.39 s, sys: 1.39 s, total: 9.78 s\n",
            "Wall time: 9.82 s\n",
            "metadata columns: Index(['ImageId', 'PatientId', 'PatientAge', 'PatientSex', 'ImageView'], dtype='object')\n",
            "shape of the dataset: (12047, 512, 512)\n",
            "shape of the masks: (12047, 512, 512)\n"
          ],
          "name": "stdout"
        }
      ]
    },
    {
      "cell_type": "code",
      "metadata": {
        "id": "0tJhrEQ6Xw9X"
      },
      "source": [
        "# because of memory limit, manual data splitter is defined so that we can split \n",
        "# images and masks in different steps and delete unnecessary variables in between\n",
        "def manual_train_test_split(data, test_ratio, init_indices):\n",
        "    if init_indices is not None:\n",
        "        shuffle_indices = init_indices\n",
        "    else:\n",
        "        shuffle_indices = np.random.permutation(len(data))\n",
        "    test_size = int(test_ratio * len(data))\n",
        "    test_indices = shuffle_indices[:test_size]\n",
        "    train_indices = shuffle_indices[test_size:]\n",
        "    return data[train_indices], data[test_indices], shuffle_indices\n",
        "\n",
        "\n",
        "images = np.expand_dims(images, axis=-1)\n",
        "X_train, X_val, indices = manual_train_test_split(data=images, test_ratio=0.2, init_indices=None)\n",
        "del images\n",
        "gc.collect()\n",
        "\n",
        "masks = np.expand_dims(masks, axis=-1)\n",
        "y_train, y_val, _ = manual_train_test_split(data=masks, test_ratio=0.2, init_indices=indices)\n",
        "del masks\n",
        "gc.collect()"
      ],
      "execution_count": null,
      "outputs": []
    },
    {
      "cell_type": "code",
      "metadata": {
        "id": "hQ4dw-lK2f8P"
      },
      "source": [
        "# define metrics: dice coefficient (DICE/F1-score) and intersection over union (IoU/Jaccard)\n",
        "def dice_coef(y_true, y_pred, smooth=1):\n",
        "    overlap = K.sum(K.abs(y_true * y_pred), axis=[1, 2, 3])\n",
        "    total_area = K.sum(y_true, axis=[1, 2, 3]) + K.sum(y_pred, axis=[1, 2, 3])\n",
        "    dsc = K.mean((2.0 * overlap + smooth) / (total_area + smooth), axis=0)\n",
        "    return dsc\n",
        "\n",
        "\n",
        "def iou_coef(y_true, y_pred, smooth=1):\n",
        "    intersection = K.sum(K.abs(y_true * y_pred), axis=[1, 2, 3])\n",
        "    union = K.sum(y_true, axis=[1, 2, 3]) + K.sum(y_pred, axis=[1, 2, 3]) - intersection\n",
        "    iou = K.mean((intersection + smooth) / (union + smooth), axis=0)\n",
        "    return iou"
      ],
      "execution_count": 4,
      "outputs": []
    },
    {
      "cell_type": "code",
      "metadata": {
        "colab": {
          "base_uri": "https://localhost:8080/",
          "height": 239
        },
        "id": "cPEpYSb_uz0z",
        "outputId": "2ac45ffa-51d4-4715-be12-bec6cebf3624"
      },
      "source": [
        "# test masks to see if both DSC ans IoU metrics are working correctly\n",
        "im1 = np.expand_dims(y_train[2], axis=0).astype('float64')\n",
        "im2 = np.expand_dims(y_train[29], axis=0).astype('float64')\n",
        "\n",
        "plt.subplot(1, 2, 1)\n",
        "plt.imshow(X=np.squeeze(im1, axis=(0, -1)), cmap='gray')\n",
        "plt.subplot(1, 2, 2)\n",
        "plt.imshow(X=np.squeeze(im2, axis=(0, -1)), cmap='gray')\n",
        "plt.show()\n",
        "\n",
        "print('inter-dice is:', dice_coef(im1, im2), 'and inter-jaccard is:', iou_coef(im1, im2))\n",
        "print('self-dice is:', dice_coef(im1, im1), 'and self-jaccard is:', iou_coef(im1, im1))"
      ],
      "execution_count": 5,
      "outputs": [
        {
          "output_type": "display_data",
          "data": {
            "image/png": "[encoded data removed]",
            "text/plain": [
              "<Figure size 432x288 with 2 Axes>"
            ]
          },
          "metadata": {
            "tags": [],
            "needs_background": "light"
          }
        },
        {
          "output_type": "stream",
          "text": [
            "inter-dice is: tf.Tensor(1.0, shape=(), dtype=float64) and inter-jaccard is: tf.Tensor(1.0, shape=(), dtype=float64)\n",
            "self-dice is: tf.Tensor(1.0, shape=(), dtype=float64) and self-jaccard is: tf.Tensor(1.0, shape=(), dtype=float64)\n"
          ],
          "name": "stdout"
        }
      ]
    },
    {
      "cell_type": "code",
      "metadata": {
        "id": "-TV4kG59yLi6"
      },
      "source": [
        "# model architecture: vanilla unet\n",
        "def vanilla_unet(input_size=(512,512,1)):\n",
        "    inputs = Input(input_size)\n",
        "    ds_inputs = Lambda(lambda image: image/255.0, name='down_scaler')(inputs)\n",
        "    \n",
        "    conv1 = Conv2D(32, (3, 3), activation='relu', padding='same')(ds_inputs)\n",
        "    conv1 = Conv2D(32, (3, 3), activation='relu', padding='same')(conv1)\n",
        "    pool1 = MaxPooling2D(pool_size=(2, 2))(conv1)\n",
        "\n",
        "    conv2 = Conv2D(32, (3, 3), activation='relu', padding='same')(pool1)\n",
        "    conv2 = Conv2D(32, (3, 3), activation='relu', padding='same')(conv2)\n",
        "    pool2 = MaxPooling2D(pool_size=(2, 2))(conv2)\n",
        "\n",
        "    conv3 = Conv2D(64, (3, 3), activation='relu', padding='same')(pool2)\n",
        "    conv3 = Conv2D(64, (3, 3), activation='relu', padding='same')(conv3)\n",
        "    pool3 = MaxPooling2D(pool_size=(2, 2))(conv3)\n",
        "\n",
        "    conv4 = Conv2D(64, (3, 3), activation='relu', padding='same')(pool3)\n",
        "    conv4 = Conv2D(64, (3, 3), activation='relu', padding='same')(conv4)\n",
        "    pool4 = MaxPooling2D(pool_size=(2, 2))(conv4)\n",
        "\n",
        "    conv5 = Conv2D(128, (3, 3), activation='relu', padding='same')(pool4)\n",
        "    conv5 = Conv2D(128, (3, 3), activation='relu', padding='same')(conv5)\n",
        "\n",
        "    up6 = concatenate([Conv2DTranspose(64, (2, 2), strides=(2, 2), padding='same')(conv5), conv4], axis=3)\n",
        "    conv6 = Conv2D(64, (3, 3), activation='relu', padding='same')(up6)\n",
        "    conv6 = Conv2D(64, (3, 3), activation='relu', padding='same')(conv6)\n",
        "\n",
        "    up7 = concatenate([Conv2DTranspose(128, (2, 2), strides=(2, 2), padding='same')(conv6), conv3], axis=3)\n",
        "    conv7 = Conv2D(64, (3, 3), activation='relu', padding='same')(up7)\n",
        "    conv7 = Conv2D(64, (3, 3), activation='relu', padding='same')(conv7)\n",
        "\n",
        "    up8 = concatenate([Conv2DTranspose(64, (2, 2), strides=(2, 2), padding='same')(conv7), conv2], axis=3)\n",
        "    conv8 = Conv2D(32, (3, 3), activation='relu', padding='same')(up8)\n",
        "    conv8 = Conv2D(32, (3, 3), activation='relu', padding='same')(conv8)\n",
        "\n",
        "    up9 = concatenate([Conv2DTranspose(32, (2, 2), strides=(2, 2), padding='same')(conv8), conv1], axis=3)\n",
        "    conv9 = Conv2D(32, (3, 3), activation='relu', padding='same')(up9)\n",
        "    conv9 = Conv2D(32, (3, 3), activation='relu', padding='same')(conv9)\n",
        "\n",
        "    conv10 = Conv2D(1, (1, 1), activation='sigmoid')(conv9)\n",
        "\n",
        "    return Model(inputs=[inputs], outputs=[conv10], name='segmentor')\n",
        "\n",
        "\n",
        "model = vanilla_unet(input_size=(512, 512, 1))\n",
        "model.compile(optimizer='adam', loss='binary_crossentropy', metrics=[dice_coef, iou_coef])\n",
        "model.summary()\n",
        "# tf.keras.utils.plot_model(model, show_shapes=True)"
      ],
      "execution_count": null,
      "outputs": []
    },
    {
      "cell_type": "code",
      "metadata": {
        "id": "Fnl_J7VxZEhg"
      },
      "source": [
        "# define training callbacks\n",
        "checkpoint = cb.ModelCheckpoint('/content/drive/My Drive/pnx_model/eps={epoch:03d}_valLoss={val_loss:.4f}.hdf5',\n",
        "                                monitor='val_loss', verbose=1, save_best_only=True, mode='auto')\n",
        "cb_list = [checkpoint]"
      ],
      "execution_count": 7,
      "outputs": []
    },
    {
      "cell_type": "code",
      "metadata": {
        "id": "pYdImdn1wygW",
        "colab": {
          "base_uri": "https://localhost:8080/"
        },
        "outputId": "3a3a243c-1bda-4b58-a83c-9954614affe5"
      },
      "source": [
        "training = model.fit(x=X_train, y=y_train, batch_size=24, epochs=1, verbose=1,\n",
        "                     steps_per_epoch=len(X_train)//24.0, validation_data=(X_val, y_val),\n",
        "                     callbacks=cb_list)\n",
        "\n",
        "fig = plt.figure(figsize=(15, 4))\n",
        "plt.subplot(1, 3, 1)\n",
        "plt.plot(training.history['loss'], color='r', label='training_loss')\n",
        "plt.plot(training.history['val_loss'], color='g', label='validation_loss')\n",
        "plt.legend()\n",
        "plt.subplot(1, 3, 2)\n",
        "plt.plot(training.history['dice_coef'], color='r', label='training_dsc')\n",
        "plt.plot(training.history['val_dice_coef'], color='g', label='validation_dsc')\n",
        "plt.legend()\n",
        "plt.subplot(1, 3, 3)\n",
        "plt.plot(training.history['iou_coef'], color='r', label='training_iou')\n",
        "plt.plot(training.history['val_iou_coef'], color='g', label='validation_iou')\n",
        "plt.legend()\n",
        "plt.show()\n",
        "fig.savefig('/content/drive/My Drive/pnx_model/training.png', bbox_inches='tight')"
      ],
      "execution_count": null,
      "outputs": [
        {
          "output_type": "stream",
          "text": [
            "  2/401 [..............................] - ETA: 3:25 - loss: 0.6869 - dice_coef: 0.0043 - iou_coef: 0.0022WARNING:tensorflow:Callbacks method `on_train_batch_end` is slow compared to the batch time (batch time: 0.2679s vs `on_train_batch_end` time: 0.7516s). Check your callbacks.\n",
            " 63/401 [===>..........................] - ETA: 5:48 - loss: 0.0918 - dice_coef: 0.0031 - iou_coef: 0.0024"
          ],
          "name": "stdout"
        }
      ]
    },
    {
      "cell_type": "code",
      "metadata": {
        "id": "pacpViTZMeZZ"
      },
      "source": [
        "idx = 17\n",
        "\n",
        "plt.imshow(X=X_train[idx].squeeze(), cmap='bone')\n",
        "plt.show()\n",
        "plt.imshow(X=y_train[idx].squeeze(), cmap='gray')\n",
        "plt.show()\n",
        "pred = model.predict(np.expand_dims(X_train[idx], axis=0))\n",
        "plt.imshow(X=np.squeeze(pred, axis=(0, -1)), cmap='gray')\n",
        "plt.show()"
      ],
      "execution_count": null,
      "outputs": []
    }
  ]
}